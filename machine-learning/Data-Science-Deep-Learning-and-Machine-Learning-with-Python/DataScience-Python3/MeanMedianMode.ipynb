{
 "cells": [
  {
   "cell_type": "markdown",
   "metadata": {
    "deletable": true,
    "editable": true
   },
   "source": [
    "# Mean, Median, Mode, and introducing NumPy"
   ]
  },
  {
   "cell_type": "markdown",
   "metadata": {
    "deletable": true,
    "editable": true
   },
   "source": [
    "## Mean vs. Median"
   ]
  },
  {
   "cell_type": "markdown",
   "metadata": {
    "deletable": true,
    "editable": true
   },
   "source": [
    "Let's create some fake income data, centered around 27,000 with a normal distribution and standard deviation of 15,000, with 10,000 data points. (We'll discuss those terms more later, if you're not familiar with them.)\n",
    "\n",
    "Then, compute the mean (average) - it should be close to 27,000:"
   ]
  },
  {
   "cell_type": "code",
   "execution_count": 20,
   "metadata": {
    "collapsed": false,
    "deletable": true,
    "editable": true
   },
   "outputs": [
    {
     "data": {
      "text/plain": [
       "27256.111671635015"
      ]
     },
     "execution_count": 20,
     "metadata": {},
     "output_type": "execute_result"
    }
   ],
   "source": [
    "import numpy as np\n",
    "\n",
    "incomes = np.random.normal(27000, 15000, 10000)\n",
    "np.mean(incomes)"
   ]
  },
  {
   "cell_type": "markdown",
   "metadata": {
    "deletable": true,
    "editable": true
   },
   "source": [
    "We can segment the income data into 50 buckets, and plot it as a histogram:"
   ]
  },
  {
   "cell_type": "code",
   "execution_count": 22,
   "metadata": {
    "collapsed": false,
    "deletable": true,
    "editable": true
   },
   "outputs": [
    {
     "data": {
      "image/png": "[encoded data removed]",
      "text/plain": [
       "<matplotlib.figure.Figure at 0x8e690f0>"
      ]
     },
     "metadata": {},
     "output_type": "display_data"
    }
   ],
   "source": [
    "%matplotlib inline\n",
    "import matplotlib.pyplot as plt\n",
    "plt.hist(incomes, 50)\n",
    "plt.show()"
   ]
  },
  {
   "cell_type": "markdown",
   "metadata": {
    "deletable": true,
    "editable": true
   },
   "source": [
    "Now compute the median - since we have a nice, even distribution it too should be close to 27,000:"
   ]
  },
  {
   "cell_type": "code",
   "execution_count": 3,
   "metadata": {
    "collapsed": false,
    "deletable": true,
    "editable": true
   },
   "outputs": [
    {
     "data": {
      "text/plain": [
       "27195.153719614136"
      ]
     },
     "execution_count": 3,
     "metadata": {},
     "output_type": "execute_result"
    }
   ],
   "source": [
    "np.median(incomes)"
   ]
  },
  {
   "cell_type": "markdown",
   "metadata": {
    "deletable": true,
    "editable": true
   },
   "source": [
    "Now we'll add Donald Trump into the mix. Darn income inequality!"
   ]
  },
  {
   "cell_type": "code",
   "execution_count": 13,
   "metadata": {
    "collapsed": false,
    "deletable": true,
    "editable": true
   },
   "outputs": [],
   "source": [
    "incomes = np.append(incomes, [1000000000])"
   ]
  },
  {
   "cell_type": "markdown",
   "metadata": {
    "deletable": true,
    "editable": true
   },
   "source": [
    "The median won't change much, but the mean does:"
   ]
  },
  {
   "cell_type": "code",
   "execution_count": 5,
   "metadata": {
    "collapsed": false,
    "deletable": true,
    "editable": true
   },
   "outputs": [
    {
     "data": {
      "text/plain": [
       "27195.884278535214"
      ]
     },
     "execution_count": 5,
     "metadata": {},
     "output_type": "execute_result"
    }
   ],
   "source": [
    "np.median(incomes)"
   ]
  },
  {
   "cell_type": "code",
   "execution_count": 6,
   "metadata": {
    "collapsed": false,
    "deletable": true,
    "editable": true
   },
   "outputs": [
    {
     "data": {
      "text/plain": [
       "126993.93098257863"
      ]
     },
     "execution_count": 6,
     "metadata": {},
     "output_type": "execute_result"
    }
   ],
   "source": [
    "np.mean(incomes)"
   ]
  },
  {
   "cell_type": "markdown",
   "metadata": {
    "deletable": true,
    "editable": true
   },
   "source": [
    "## Mode"
   ]
  },
  {
   "cell_type": "markdown",
   "metadata": {
    "deletable": true,
    "editable": true
   },
   "source": [
    "Next, let's generate some fake age data for 500 people:"
   ]
  },
  {
   "cell_type": "code",
   "execution_count": 14,
   "metadata": {
    "collapsed": false,
    "deletable": true,
    "editable": true
   },
   "outputs": [
    {
     "data": {
      "text/plain": [
       "array([32, 32, 61, 59, 49, 33, 71, 58, 60, 18, 67, 75, 37, 20, 26, 20, 25,\n",
       "       76, 81, 47, 18, 70, 85, 41, 39, 55, 18, 61, 19, 27, 22, 60, 64, 52,\n",
       "       53, 64, 71, 24, 78, 22, 19, 18, 86, 71, 64, 36, 69, 76, 21, 72, 47,\n",
       "       18, 46, 53, 24, 30, 88, 30, 54, 65, 86, 73, 25, 68, 74, 50, 74, 32,\n",
       "       37, 45, 55, 28, 28, 82, 61, 56, 74, 58, 62, 59, 83, 23, 43, 26, 72,\n",
       "       65, 28, 27, 47, 79, 44, 78, 35, 73, 40, 71, 64, 85, 24, 38, 82, 21,\n",
       "       54, 55, 46, 27, 18, 65, 70, 30, 48, 26, 51, 34, 51, 24, 74, 58, 23,\n",
       "       87, 48, 20, 67, 88, 38, 62, 36, 37, 38, 31, 63, 27, 39, 21, 66, 65,\n",
       "       80, 26, 25, 38, 28, 74, 40, 57, 86, 27, 48, 20, 47, 67, 74, 39, 31,\n",
       "       82, 35, 21, 51, 71, 61, 84, 63, 35, 47, 25, 79, 46, 86, 62, 71, 36,\n",
       "       81, 45, 63, 86, 40, 86, 31, 43, 87, 82, 89, 66, 59, 55, 51, 32, 41,\n",
       "       70, 64, 30, 54, 77, 43, 18, 24, 89, 19, 52, 86, 87, 25, 75, 39, 49,\n",
       "       33, 32, 44, 75, 24, 18, 63, 59, 25, 46, 35, 77, 51, 73, 47, 62, 84,\n",
       "       21, 32, 58, 53, 63, 28, 46, 80, 55, 49, 51, 21, 51, 32, 39, 68, 20,\n",
       "       43, 37, 47, 41, 23, 46, 41, 66, 89, 45, 77, 28, 72, 39, 74, 79, 46,\n",
       "       80, 56, 22, 83, 55, 43, 67, 75, 51, 36, 52, 68, 29, 74, 64, 58, 22,\n",
       "       71, 23, 58, 70, 29, 88, 49, 82, 62, 35, 37, 52, 67, 38, 26, 64, 45,\n",
       "       56, 42, 61, 68, 66, 67, 31, 28, 79, 20, 49, 79, 57, 89, 58, 57, 47,\n",
       "       52, 70, 36, 32, 69, 22, 52, 22, 29, 88, 58, 26, 48, 78, 70, 46, 29,\n",
       "       18, 52, 51, 51, 73, 84, 26, 35, 44, 56, 79, 26, 73, 43, 31, 26, 21,\n",
       "       82, 19, 72, 66, 23, 22, 33, 42, 80, 83, 38, 78, 70, 48, 71, 81, 24,\n",
       "       59, 84, 83, 45, 51, 34, 71, 53, 89, 85, 20, 75, 30, 89, 89, 51, 59,\n",
       "       34, 63, 61, 71, 60, 24, 47, 20, 78, 67, 23, 64, 18, 20, 52, 32, 20,\n",
       "       74, 37, 29, 40, 57, 48, 40, 34, 54, 47, 27, 26, 48, 20, 36, 47, 85,\n",
       "       44, 67, 45, 77, 87, 52, 58, 32, 46, 65, 73, 42, 37, 59, 34, 40, 73,\n",
       "       46, 26, 70, 51, 38, 70, 75, 44, 79, 54, 76, 36, 86, 74, 33, 37, 61,\n",
       "       39, 83, 26, 45, 85, 43, 40, 29, 79, 67, 55, 88, 88, 50, 67, 78, 85,\n",
       "       60, 49, 81, 72, 31, 86, 72, 54, 69, 30, 52, 39, 89, 67, 62, 53, 38,\n",
       "       18, 28, 65, 64, 72, 76, 41, 33, 39, 25, 50, 29, 76, 52, 84, 38, 87,\n",
       "       24, 61, 32, 48, 41, 50, 61])"
      ]
     },
     "execution_count": 14,
     "metadata": {},
     "output_type": "execute_result"
    }
   ],
   "source": [
    "ages = np.random.randint(18, high=90, size=500)\n",
    "ages"
   ]
  },
  {
   "cell_type": "code",
   "execution_count": 23,
   "metadata": {
    "collapsed": false,
    "deletable": true,
    "editable": true
   },
   "outputs": [
    {
     "data": {
      "text/plain": [
       "ModeResult(mode=array([51]), count=array([13]))"
      ]
     },
     "execution_count": 23,
     "metadata": {},
     "output_type": "execute_result"
    }
   ],
   "source": [
    "from scipy import stats\n",
    "stats.mode(ages)"
   ]
  },
  {
   "cell_type": "code",
   "execution_count": null,
   "metadata": {
    "collapsed": false,
    "deletable": true,
    "editable": true
   },
   "outputs": [],
   "source": []
  }
 ],
 "metadata": {
  "kernelspec": {
   "display_name": "Python 3",
   "language": "python",
   "name": "python3"
  },
  "language_info": {
   "codemirror_mode": {
    "name": "ipython",
    "version": 3
   },
   "file_extension": ".py",
   "mimetype": "text/x-python",
   "name": "python",
   "nbconvert_exporter": "python",
   "pygments_lexer": "ipython3",
   "version": "3.5.2"
  }
 },
 "nbformat": 4,
 "nbformat_minor": 0
}
